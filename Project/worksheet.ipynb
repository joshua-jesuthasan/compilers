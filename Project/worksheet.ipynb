{
 "cells": [
  {
   "cell_type": "markdown",
   "id": "f2dd921e-534b-4e5c-9c36-492f72910813",
   "metadata": {
    "editable": false
   },
   "source": [
    "# Assignment 3"
   ]
  },
  {
   "cell_type": "code",
   "execution_count": 1,
   "id": "5717a6e1-13b5-464b-9244-fdec8411cd5f",
   "metadata": {
    "editable": false,
    "tags": []
   },
   "outputs": [],
   "source": [
    "// [THIS IS READ-ONLY]\n",
    "@file:DependsOn(\"/antlr-4.11.1-complete.jar\")\n",
    "@file:DependsOn(\"./target\")"
   ]
  },
  {
   "cell_type": "code",
   "execution_count": 2,
   "id": "3b38dfda-74cd-4464-a6e0-a42096ff8aab",
   "metadata": {
    "editable": false,
    "tags": []
   },
   "outputs": [],
   "source": [
    "// [THIS IS READ-ONLY]\n",
    "import org.antlr.v4.runtime.*\n",
    "import backend.*"
   ]
  },
  {
   "cell_type": "code",
   "execution_count": 3,
   "id": "87e5764c-c1cf-43f8-86b8-71f1e6bfae44",
   "metadata": {
    "editable": false,
    "tags": []
   },
   "outputs": [],
   "source": [
    "// [THIS IS READ-ONLY]\n",
    "fun execute(source:String) {\n",
    "    val errorlistener = object: BaseErrorListener() {\n",
    "        override fun syntaxError(recognizer: Recognizer<*,*>,\n",
    "               offendingSymbol: Any?,\n",
    "               line: Int,\n",
    "               pos: Int,\n",
    "               msg: String,\n",
    "               e: RecognitionException?) {\n",
    "            throw Exception(\"${e} at line:${line}, char:${pos}\")\n",
    "        }\n",
    "    }\n",
    "    val input = CharStreams.fromString(source)\n",
    "    val lexer = PLLexer(input).apply {\n",
    "        removeErrorListeners()\n",
    "        addErrorListener(errorlistener)\n",
    "    }\n",
    "    val tokens = CommonTokenStream(lexer)\n",
    "    val parser = PLParser(tokens).apply {\n",
    "        removeErrorListeners()\n",
    "        addErrorListener(errorlistener)\n",
    "    }    \n",
    "    \n",
    "    try {\n",
    "        val result = parser.program()\n",
    "        result.expr.eval(Runtime())\n",
    "    } catch(e:Exception) {\n",
    "        println(\"Error: ${e}\")\n",
    "    }\n",
    "}"
   ]
  },
  {
   "cell_type": "markdown",
   "id": "d02565aa-4e9f-4261-a185-d140b68c54f1",
   "metadata": {
    "editable": false
   },
   "source": [
    "## String arithmetics"
   ]
  },
  {
   "cell_type": "code",
   "execution_count": 4,
   "id": "b001c14e-2f45-48fc-82be-a98168bf2aa9",
   "metadata": {
    "editable": false,
    "tags": []
   },
   "outputs": [],
   "source": [
    "// [THIS IS READ-ONLY]\n",
    "val program1 = \"\"\"\n",
    "x = \"Hello\";\n",
    "y = \"World\";\n",
    "\n",
    "print(x ++ \" \" ++ y);\n",
    "\"\"\""
   ]
  },
  {
   "cell_type": "code",
   "execution_count": 5,
   "id": "b3c2857e",
   "metadata": {
    "tags": []
   },
   "outputs": [
    {
     "name": "stdout",
     "output_type": "stream",
     "text": [
      "Hello World\n"
     ]
    }
   ],
   "source": [
    "// [YOUR WORK HERE]\n",
    "// @workUnit\n",
    "// execute the program\n",
    "\n",
    "execute(program1)"
   ]
  },
  {
   "cell_type": "markdown",
   "id": "b4ad5b2d-b4b2-42e8-bbe1-0ecefb10102d",
   "metadata": {
    "editable": false
   },
   "source": [
    "## Mixed arithmetics"
   ]
  },
  {
   "cell_type": "code",
   "execution_count": 6,
   "id": "579a59aa-6074-4715-a248-bd553e9bddbf",
   "metadata": {
    "editable": false,
    "tags": []
   },
   "outputs": [],
   "source": [
    "// [THIS IS READ-ONLY]\n",
    "val program2 = \"\"\"\n",
    "x = \"woof \";\n",
    "y = \"Dog goes \" ++ (x * 2);\n",
    "\n",
    "print(y);\n",
    "\"\"\""
   ]
  },
  {
   "cell_type": "code",
   "execution_count": 7,
   "id": "629a437d",
   "metadata": {
    "tags": []
   },
   "outputs": [
    {
     "name": "stdout",
     "output_type": "stream",
     "text": [
      "Dog goes woof woof \n"
     ]
    }
   ],
   "source": [
    "// [YOUR WORK HERE]\n",
    "// @workUnit\n",
    "\n",
    "execute(program2)"
   ]
  },
  {
   "cell_type": "markdown",
   "id": "172ba344-0ce6-49c2-a5ac-d14eefdaffb4",
   "metadata": {
    "editable": false
   },
   "source": [
    "## Loops"
   ]
  },
  {
   "cell_type": "code",
   "execution_count": 8,
   "id": "eab62b5c-103d-4b9e-9244-61faa2571bd7",
   "metadata": {
    "editable": false,
    "tags": []
   },
   "outputs": [],
   "source": [
    "// [THIS IS READ-ONLY]\n",
    "val program3 = \"\"\"\n",
    "sum = 0\n",
    "for(i in 10..20) {\n",
    "  sum = sum + i;\n",
    "}\n",
    "\n",
    "print(sum)\n",
    "\"\"\""
   ]
  },
  {
   "cell_type": "code",
   "execution_count": 9,
   "id": "9f1ac87b",
   "metadata": {
    "tags": []
   },
   "outputs": [
    {
     "name": "stdout",
     "output_type": "stream",
     "text": [
      "165\n"
     ]
    }
   ],
   "source": [
    "// [YOUR WORK HERE]\n",
    "// @workUnit\n",
    "\n",
    "execute(program3)"
   ]
  },
  {
   "cell_type": "markdown",
   "id": "46585be1-3814-4ad5-83e8-6ff46f99b90f",
   "metadata": {
    "editable": false,
    "tags": []
   },
   "source": [
    "## Function"
   ]
  },
  {
   "cell_type": "code",
   "execution_count": 10,
   "id": "91e9c33b-9393-4de7-8e98-aa82d568df53",
   "metadata": {
    "editable": false,
    "tags": []
   },
   "outputs": [],
   "source": [
    "// [THIS IS READ-ONLY]\n",
    "val program4 = \"\"\"\n",
    "function greeting(name, message) {\n",
    "  x = \"Hi,\";\n",
    "  x = x ++ \" my name is \" ++ name ++ \".\";\n",
    "  print(x);\n",
    "  print(message);\n",
    "}\n",
    "\n",
    "greeting(\"Albert\", \"How are you?\");\n",
    "\"\"\""
   ]
  },
  {
   "cell_type": "code",
   "execution_count": 11,
   "id": "475f7864",
   "metadata": {
    "tags": []
   },
   "outputs": [
    {
     "name": "stdout",
     "output_type": "stream",
     "text": [
      "Hi, my name is Albert.\n",
      "How are you?\n"
     ]
    }
   ],
   "source": [
    "// [YOUR WORK HERE]\n",
    "// @workUnit\n",
    "\n",
    "execute(program4)"
   ]
  },
  {
   "cell_type": "markdown",
   "id": "aeb42862-8d8a-4a40-ae06-a5641eb8d2bf",
   "metadata": {
    "editable": false,
    "tags": []
   },
   "source": [
    "## Recursion"
   ]
  },
  {
   "cell_type": "code",
   "execution_count": 12,
   "id": "c39324da-96e3-4e61-a489-f23a7fc3f508",
   "metadata": {
    "editable": false,
    "tags": []
   },
   "outputs": [],
   "source": [
    "// [THIS IS READ-ONLY]\n",
    "val program5 = \"\"\"\n",
    "function factorial(n) {\n",
    "  if(n < 2) {\n",
    "    1;\n",
    "  } else {\n",
    "    n * factorial(n-1);\n",
    "  }\n",
    "}\n",
    "\n",
    "print(factorial(10));\n",
    "\"\"\""
   ]
  },
  {
   "cell_type": "code",
   "execution_count": 13,
   "id": "755cf3df",
   "metadata": {
    "tags": []
   },
   "outputs": [
    {
     "name": "stdout",
     "output_type": "stream",
     "text": [
      "3628800\n"
     ]
    }
   ],
   "source": [
    "// [YOUR WORK HERE]\n",
    "// @workUnit\n",
    "\n",
    "execute(program5)"
   ]
  },
  {
   "cell_type": "markdown",
   "id": "3dce5e10-9d1c-4040-922d-60837dbe2e42",
   "metadata": {},
   "source": [
    "## Comments"
   ]
  },
  {
   "cell_type": "code",
   "execution_count": 14,
   "id": "39e18a1e-9f95-4db5-82bf-2837d319d2c1",
   "metadata": {
    "tags": []
   },
   "outputs": [
    {
     "name": "stdout",
     "output_type": "stream",
     "text": [
      "15"
     ]
    }
   ],
   "source": [
    "// This is a single-line comment\n",
    "var x = 5; // This variable is set to five\n",
    "\n",
    "/*\n",
    " This is a multi-line comment\n",
    " that spans multiple lines\n",
    "*/\n",
    "var y = x + 10; // y should be 15\n",
    "print(y);"
   ]
  },
  {
   "cell_type": "code",
   "execution_count": 15,
   "id": "da12d378-a93e-49e5-9596-c7aed5b13c59",
   "metadata": {
    "tags": []
   },
   "outputs": [
    {
     "name": "stdout",
     "output_type": "stream",
     "text": [
      "10"
     ]
    }
   ],
   "source": [
    "var a = 10; // This is a single-line comment following code\n",
    "/* This is a comment that surrounds\n",
    "var b = a + 5; */\n",
    "print(a); // Should only print 10, not 15\n"
   ]
  },
  {
   "cell_type": "markdown",
   "id": "49020190-be3d-4aa2-b838-3390f0ec45fa",
   "metadata": {},
   "source": [
    "## String Interpolation"
   ]
  },
  {
   "cell_type": "code",
   "execution_count": 16,
   "id": "e0cf58e4-9d83-4a19-8eeb-9e835f01716f",
   "metadata": {
    "tags": []
   },
   "outputs": [
    {
     "name": "stdout",
     "output_type": "stream",
     "text": [
      "Hello, Josh!\n"
     ]
    }
   ],
   "source": [
    "val name = \"Josh\"\n",
    "println(\"Hello, $name!\")\n",
    "\n"
   ]
  },
  {
   "cell_type": "markdown",
   "id": "71ddea0a-0d8e-4061-a77d-ba79ba4d2e8c",
   "metadata": {},
   "source": [
    "## Negation"
   ]
  },
  {
   "cell_type": "code",
   "execution_count": 17,
   "id": "13d364a3-d693-4a88-8f9b-6f82ca92bca7",
   "metadata": {
    "tags": []
   },
   "outputs": [],
   "source": [
    "val program8 = \"\"\"\n",
    "let a = 5\n",
    "let negA = -a\n",
    "print(negA)\n",
    "\"\"\"\n",
    "\n"
   ]
  },
  {
   "cell_type": "code",
   "execution_count": 18,
   "id": "5dc765d1-7356-41d2-bc27-219e42cc9fdc",
   "metadata": {},
   "outputs": [
    {
     "name": "stdout",
     "output_type": "stream",
     "text": [
      "-5\n"
     ]
    }
   ],
   "source": [
    "execute(program8)"
   ]
  },
  {
   "cell_type": "markdown",
   "id": "9281bfd2-d564-435b-a11b-9bfb6e3ce4a9",
   "metadata": {},
   "source": [
    "## Ternary Operator"
   ]
  },
  {
   "cell_type": "code",
   "execution_count": 19,
   "id": "69119d17-31f4-4a5f-b415-cf3b60dd3b2e",
   "metadata": {
    "tags": []
   },
   "outputs": [],
   "source": [
    "val program9 = \"\"\"\n",
    "let x = 10\n",
    "let result = x > 5 ? \"Greater than five\" : \"Not greater than five\"\n",
    "\n",
    "print(result)\n",
    "\"\"\"\n"
   ]
  },
  {
   "cell_type": "code",
   "execution_count": 20,
   "id": "3fa7cb93-26f5-4c4b-909c-cc42455fd3fe",
   "metadata": {
    "tags": []
   },
   "outputs": [
    {
     "name": "stdout",
     "output_type": "stream",
     "text": [
      "Greater than five\n"
     ]
    }
   ],
   "source": [
    "execute(program9)"
   ]
  },
  {
   "cell_type": "markdown",
   "id": "c7d893c5-2178-4a64-bec9-27ccab30b5f8",
   "metadata": {},
   "source": [
    "## File Reading"
   ]
  },
  {
   "cell_type": "code",
   "execution_count": 21,
   "id": "4fcb229c-c796-4f0f-bbc8-4ba01b23d91b",
   "metadata": {
    "tags": []
   },
   "outputs": [],
   "source": [
    "val program10 = \"\"\"\n",
    "let fileContents = readFile(\" testfile.txt \")\n",
    "print(fileContents)\n",
    "\"\"\"\n"
   ]
  },
  {
   "cell_type": "code",
   "execution_count": 22,
   "id": "09bb630c-a5a2-4800-aca2-4b9c7c63c8f1",
   "metadata": {},
   "outputs": [
    {
     "name": "stdout",
     "output_type": "stream",
     "text": [
      "Hello, this is a test file.\n",
      "\n"
     ]
    }
   ],
   "source": [
    "execute(program10)"
   ]
  },
  {
   "cell_type": "markdown",
   "id": "3db8774b-6004-46b8-99ac-6694bddca027",
   "metadata": {},
   "source": [
    "## String Splitting"
   ]
  },
  {
   "cell_type": "code",
   "execution_count": 23,
   "id": "161ce00a-7817-40be-84f6-a3bfd47be1ff",
   "metadata": {
    "tags": []
   },
   "outputs": [],
   "source": [
    "val program11 = \"\"\"\n",
    "let text = \"one,two,three\"\n",
    "let parts = split(text, \",\")\n",
    "print(parts)\n",
    "\"\"\"\n"
   ]
  },
  {
   "cell_type": "code",
   "execution_count": 24,
   "id": "7a89bef3-1751-46c3-a0d2-7d8016366a30",
   "metadata": {
    "tags": []
   },
   "outputs": [
    {
     "name": "stdout",
     "output_type": "stream",
     "text": [
      "[one, two, three]\n"
     ]
    }
   ],
   "source": [
    "execute(program11)"
   ]
  },
  {
   "cell_type": "markdown",
   "id": "0bfc7429-d332-4454-8a5e-670f26964b59",
   "metadata": {},
   "source": [
    "## Boolean Operators"
   ]
  },
  {
   "cell_type": "code",
   "execution_count": 25,
   "id": "9f48b2be-2155-4e09-9887-bc8bfd77d54c",
   "metadata": {
    "tags": []
   },
   "outputs": [],
   "source": [
    "val program12 = \"\"\"\n",
    "let a = true && false\n",
    "let b = !a\n",
    "let c = b || true\n",
    "\n",
    "print(a)  // Should output: false\n",
    "print(b)  // Should output: true\n",
    "print(c)  // Should output: true\n",
    "\"\"\"\n"
   ]
  },
  {
   "cell_type": "code",
   "execution_count": 26,
   "id": "521037d5-dc28-47c7-86f6-a45a00437f95",
   "metadata": {},
   "outputs": [
    {
     "name": "stdout",
     "output_type": "stream",
     "text": [
      "false\n",
      "true\n",
      "true\n"
     ]
    }
   ],
   "source": [
    "execute(program12)"
   ]
  },
  {
   "cell_type": "code",
   "execution_count": 27,
   "id": "dfeef954-fc9d-4708-aa54-f29c95fa7e21",
   "metadata": {
    "tags": []
   },
   "outputs": [],
   "source": [
    "val program13 = \"\"\"\n",
    "let result = true ? \"Passed\" : \"Failed\"\n",
    "print(result)  // Expected: \"Passed\"\n",
    "\n",
    "result = false ? \"Passed\" : \"Failed\"\n",
    "print(result)  // Expected: \"Failed\"\n",
    "\"\"\"\n",
    "\n",
    "\n"
   ]
  },
  {
   "cell_type": "code",
   "execution_count": 28,
   "id": "6c347128-fe31-4e27-81f0-4751a7823fed",
   "metadata": {},
   "outputs": [
    {
     "name": "stdout",
     "output_type": "stream",
     "text": [
      "Passed\n",
      "Failed\n"
     ]
    }
   ],
   "source": [
    "execute(program13)"
   ]
  }
 ],
 "metadata": {
  "kernelspec": {
   "display_name": "Kotlin",
   "language": "kotlin",
   "name": "kotlin"
  },
  "language_info": {
   "codemirror_mode": "text/x-kotlin",
   "file_extension": ".kt",
   "mimetype": "text/x-kotlin",
   "name": "kotlin",
   "nbconvert_exporter": "",
   "pygments_lexer": "kotlin",
   "version": "1.8.0-dev-707"
  }
 },
 "nbformat": 4,
 "nbformat_minor": 5
}
